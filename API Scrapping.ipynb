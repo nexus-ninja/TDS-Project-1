{
  "nbformat": 4,
  "nbformat_minor": 0,
  "metadata": {
    "colab": {
      "provenance": []
    },
    "kernelspec": {
      "name": "python3",
      "display_name": "Python 3"
    },
    "language_info": {
      "name": "python"
    }
  },
  "cells": [
    {
      "cell_type": "code",
      "execution_count": 10,
      "metadata": {
        "id": "96qDEaTuV1hU"
      },
      "outputs": [],
      "source": [
        "#users.csv\n",
        "import requests\n",
        "import csv\n",
        "\n",
        "# Replace with your personal access token\n",
        "GITHUB_TOKEN = 'token'\n",
        "HEADERS = {'Authorization': f'token {GITHUB_TOKEN}'}\n",
        "BASE_URL = 'https://api.github.com'\n",
        "\n",
        "def get_users_in_bangalore():\n",
        "    users = []\n",
        "    page = 1\n",
        "\n",
        "    while True:\n",
        "        response = requests.get(f'{BASE_URL}/search/users',\n",
        "                                headers=HEADERS,\n",
        "                                params={'q': 'location:Melbourne followers:>100', 'page': page})\n",
        "        data = response.json()\n",
        "\n",
        "        if 'items' not in data or not data['items']:\n",
        "            break\n",
        "\n",
        "        for user in data['items']:\n",
        "            users.append(user['login'])\n",
        "\n",
        "        page += 1\n",
        "\n",
        "    return users\n",
        "\n",
        "def get_user_details(username):\n",
        "    response = requests.get(f'{BASE_URL}/users/{username}', headers=HEADERS)\n",
        "    return response.json()\n",
        "\n",
        "def clean_company(company):\n",
        "    if company:\n",
        "        return company.strip().lstrip('@').upper()\n",
        "    return None\n",
        "\n",
        "def main():\n",
        "    users = get_users_in_bangalore()\n",
        "    user_details = []\n",
        "\n",
        "    for user in users:\n",
        "        details = get_user_details(user)\n",
        "        user_details.append({\n",
        "            'login': details.get('login'),\n",
        "            'name': details.get('name'),\n",
        "            'company': clean_company(details.get('company')),\n",
        "            'location': details.get('location'),\n",
        "            'email': details.get('email'),\n",
        "            'hireable': details.get('hireable'),\n",
        "            'bio': details.get('bio'),\n",
        "            'public_repos': details.get('public_repos'),\n",
        "            'followers': details.get('followers'),\n",
        "            'following': details.get('following'),\n",
        "            'created_at': details.get('created_at'),\n",
        "        })\n",
        "\n",
        "    # Write to CSV\n",
        "    with open('users.csv', 'w', newline='', encoding='utf-8') as csvfile:\n",
        "        fieldnames = ['login', 'name', 'company', 'location', 'email',\n",
        "                      'hireable', 'bio', 'public_repos', 'followers',\n",
        "                      'following', 'created_at']\n",
        "        writer = csv.DictWriter(csvfile, fieldnames=fieldnames)\n",
        "        writer.writeheader()\n",
        "        for user in user_details:\n",
        "            writer.writerow(user)\n",
        "\n",
        "if __name__ == '__main__':\n",
        "    main()\n"
      ]
    },
    {
      "cell_type": "code",
      "source": [
        "#more cleaned users.csv\n",
        "import pandas as pd\n",
        "\n",
        "# Load the data\n",
        "users_df = pd.read_csv('users.csv')\n",
        "\n",
        "# Clean the company names\n",
        "users_df['company'] = users_df['company'].str.strip()  # Trim whitespace\n",
        "users_df['company'] = users_df['company'].str.lstrip('@')  # Strip leading '@'\n",
        "users_df['company'] = users_df['company'].str.upper()  # Convert to uppercase\n",
        "\n",
        "# Save the cleaned DataFrame back to users.csv\n",
        "users_df.to_csv('users.csv', index=False)\n",
        "\n",
        "print(\"Company names cleaned and saved to users.csv.\")"
      ],
      "metadata": {
        "colab": {
          "base_uri": "https://localhost:8080/"
        },
        "id": "nycoWQHCV-Fx",
        "outputId": "0e1b0ea8-4a26-4f4d-a714-9bb388f2cb60"
      },
      "execution_count": 11,
      "outputs": [
        {
          "output_type": "stream",
          "name": "stdout",
          "text": [
            "Company names cleaned and saved to users.csv.\n"
          ]
        }
      ]
    },
    {
      "cell_type": "code",
      "source": [
        "#repositories.csv\n",
        "import requests\n",
        "import csv\n",
        "\n",
        "# Replace with your personal access token\n",
        "GITHUB_TOKEN = 'token'\n",
        "HEADERS = {'Authorization': f'token {GITHUB_TOKEN}'}\n",
        "BASE_URL = 'https://api.github.com'\n",
        "\n",
        "def read_users_from_csv(file_path):\n",
        "    users = []\n",
        "    with open(file_path, 'r', encoding='utf-8') as csvfile:\n",
        "        reader = csv.DictReader(csvfile)\n",
        "        for row in reader:\n",
        "            users.append(row['login'])\n",
        "    return users\n",
        "\n",
        "def get_repositories(username):\n",
        "    repos = []\n",
        "    page = 1\n",
        "    while True:\n",
        "        response = requests.get(f'{BASE_URL}/users/{username}/repos',\n",
        "                                headers=HEADERS,\n",
        "                                params={'sort': 'pushed', 'direction': 'desc', 'per_page': 100, 'page': page})\n",
        "        data = response.json()\n",
        "\n",
        "        if not data or len(repos) >= 500:\n",
        "            break\n",
        "\n",
        "        for repo in data:\n",
        "            repos.append({\n",
        "                'full_name': repo['full_name'],\n",
        "                'created_at': repo['created_at'],\n",
        "                'stargazers_count': repo['stargazers_count'],\n",
        "                'watchers_count': repo['watchers_count'],\n",
        "                'language': repo['language'],\n",
        "                'has_projects': repo['has_projects'],\n",
        "                'has_wiki': repo['has_wiki'],\n",
        "                'license_name': repo['license']['key'] if repo.get('license') else None  # Safely fetch license key\n",
        "            })\n",
        "\n",
        "        page += 1\n",
        "\n",
        "    return repos[:500]  # Return up to 500 repos\n",
        "\n",
        "def main():\n",
        "    users = read_users_from_csv('users.csv')\n",
        "    all_repos = []\n",
        "\n",
        "    for user in users:\n",
        "        repos = get_repositories(user)\n",
        "        for repo in repos:\n",
        "            all_repos.append({\n",
        "                'login': user,\n",
        "                **repo\n",
        "            })\n",
        "\n",
        "    # Write to CSV\n",
        "    with open('repositories.csv', 'w', newline='', encoding='utf-8') as csvfile:\n",
        "        fieldnames = ['login', 'full_name', 'created_at',\n",
        "                      'stargazers_count', 'watchers_count',\n",
        "                      'language', 'has_projects',\n",
        "                      'has_wiki', 'license_name']\n",
        "        writer = csv.DictWriter(csvfile, fieldnames=fieldnames)\n",
        "        writer.writeheader()\n",
        "        for repo in all_repos:\n",
        "            writer.writerow(repo)\n",
        "\n",
        "if __name__ == '__main__':\n",
        "    main()\n"
      ],
      "metadata": {
        "id": "q2aLZiMKWBDd"
      },
      "execution_count": 13,
      "outputs": []
    },
    {
      "cell_type": "code",
      "source": [
        "#Q1\n",
        "import pandas as pd\n",
        "\n",
        "# Load the users.csv file\n",
        "users_df = pd.read_csv(\"users.csv\")\n",
        "\n",
        "# Sort users by the number of followers in descending order\n",
        "top_users = users_df.sort_values(by=\"followers\", ascending=False).head(5)\n",
        "\n",
        "# Extract the 'login' column for the top 5 users and join them as a comma-separated string\n",
        "top_users_list = \", \".join(top_users['login'].tolist())\n",
        "\n",
        "print(\"Top 5 users by followers:\", top_users_list)"
      ],
      "metadata": {
        "colab": {
          "base_uri": "https://localhost:8080/"
        },
        "id": "nUB0YReQWO4q",
        "outputId": "444263e0-570d-4a2e-b1ab-ca57c6f1b670"
      },
      "execution_count": 15,
      "outputs": [
        {
          "output_type": "stream",
          "name": "stdout",
          "text": [
            "Top 5 users by followers: mosh-hamedani, TheCherno, haileys, rstacruz, jesseduffield\n"
          ]
        }
      ]
    },
    {
      "cell_type": "code",
      "source": [
        "\n",
        "#Q2: Who are the 5 earliest registered GitHub users in Melbourne? List their login in ascending order of created_at, comma-separated.\n",
        "\n",
        "import pandas as pd\n",
        "\n",
        "# Load the users.csv file\n",
        "users_df = pd.read_csv(\"users.csv\")\n",
        "\n",
        "# Convert 'created_at' to datetime format for accurate sorting\n",
        "users_df['created_at'] = pd.to_datetime(users_df['created_at'])\n",
        "\n",
        "# Sort users by 'created_at' in ascending order\n",
        "earliest_users = users_df.sort_values(by=\"created_at\", ascending=True).head(5)\n",
        "\n",
        "# Extract the 'login' column for the earliest 5 users and join them as a comma-separated string\n",
        "earliest_users_list = \", \".join(earliest_users['login'].tolist())\n",
        "\n",
        "print(\"5 earliest registered users:\", earliest_users_list)"
      ],
      "metadata": {
        "colab": {
          "base_uri": "https://localhost:8080/"
        },
        "id": "o4pxOoNjcukr",
        "outputId": "328b8475-3622-48f0-92bf-b948b4fbe360"
      },
      "execution_count": 16,
      "outputs": [
        {
          "output_type": "stream",
          "name": "stdout",
          "text": [
            "5 earliest registered users: toolmantim, crafterm, dgoodlad, Sutto, mdub\n"
          ]
        }
      ]
    },
    {
      "cell_type": "code",
      "source": [
        "#Q3: 3. What are the 3 most popular license among these users? Ignore missing licenses. List the license_name in order, comma-separated.\n",
        "\n",
        "import pandas as pd\n",
        "\n",
        "# Load the repositories.csv file\n",
        "repos_df = pd.read_csv(\"repositories.csv\")\n",
        "\n",
        "# Filter out missing licenses\n",
        "filtered_repos = repos_df[repos_df['license_name'].notna()]\n",
        "\n",
        "# Count occurrences of each license and sort in descending order\n",
        "top_licenses = (\n",
        "    filtered_repos['license_name']\n",
        "    .value_counts()\n",
        "    .head(3)\n",
        ")\n",
        "\n",
        "# Convert the top licenses to a comma-separated string\n",
        "top_licenses_list = \", \".join(top_licenses.index.tolist())\n",
        "\n",
        "print(\"3 most popular licenses:\", top_licenses_list)"
      ],
      "metadata": {
        "colab": {
          "base_uri": "https://localhost:8080/"
        },
        "id": "BMTuYGqwdz1n",
        "outputId": "d8440b37-8fb7-43de-c11c-ff5ffef9d9c2"
      },
      "execution_count": 17,
      "outputs": [
        {
          "output_type": "stream",
          "name": "stdout",
          "text": [
            "3 most popular licenses: mit, other, apache-2.0\n"
          ]
        }
      ]
    },
    {
      "cell_type": "code",
      "source": [
        "#Q4: 4. Which company do the majority of these developers work at? Company (cleaned up as explained above)\n",
        "\n",
        "import pandas as pd\n",
        "\n",
        "# Load the users.csv file\n",
        "users_df = pd.read_csv(\"users.csv\")\n",
        "\n",
        "# Remove missing values in the 'company' field for analysis\n",
        "filtered_users = users_df[users_df['company'].notna()]\n",
        "\n",
        "# Count occurrences of each company and get the one with the highest count\n",
        "most_common_company = (\n",
        "    filtered_users['company']\n",
        "    .value_counts()\n",
        "    .idxmax()\n",
        ")\n",
        "\n",
        "print(\"Company with the most developers:\", most_common_company)"
      ],
      "metadata": {
        "colab": {
          "base_uri": "https://localhost:8080/"
        },
        "id": "VxWxbkmwdzuj",
        "outputId": "c3bfb235-e8d2-4eec-fd26-2ada14096e1d"
      },
      "execution_count": 18,
      "outputs": [
        {
          "output_type": "stream",
          "name": "stdout",
          "text": [
            "Company with the most developers: MONASH UNIVERSITY\n"
          ]
        }
      ]
    },
    {
      "cell_type": "code",
      "source": [
        "#Q5: 5. Which programming language is most popular among these users?\n",
        "import pandas as pd\n",
        "\n",
        "# Load the repositories.csv file\n",
        "repos_df = pd.read_csv(\"repositories.csv\")\n",
        "\n",
        "# Remove rows with missing language information\n",
        "filtered_repos = repos_df[repos_df['language'].notna()]\n",
        "\n",
        "# Count occurrences of each language and get the most common one\n",
        "most_common_language = (\n",
        "    filtered_repos['language']\n",
        "    .value_counts()\n",
        "    .idxmax()\n",
        ")\n",
        "\n",
        "print(\"Most popular programming language:\", most_common_language)"
      ],
      "metadata": {
        "colab": {
          "base_uri": "https://localhost:8080/"
        },
        "id": "A3WZkjcUeOjI",
        "outputId": "56baaf72-a325-41b2-9988-7eb6591af474"
      },
      "execution_count": 19,
      "outputs": [
        {
          "output_type": "stream",
          "name": "stdout",
          "text": [
            "Most popular programming language: JavaScript\n"
          ]
        }
      ]
    },
    {
      "cell_type": "code",
      "source": [
        "#Q6: Which programming language is the second most popular among users who joined after 2020?\n",
        "\n",
        "import pandas as pd\n",
        "\n",
        "# Load the users.csv and repositories.csv files\n",
        "users_df = pd.read_csv(\"users.csv\")\n",
        "repos_df = pd.read_csv(\"repositories.csv\")\n",
        "\n",
        "# Convert 'created_at' to datetime format\n",
        "users_df['created_at'] = pd.to_datetime(users_df['created_at'])\n",
        "\n",
        "# Filter users who joined after 2020\n",
        "users_after_2020 = users_df[users_df['created_at'].dt.year > 2020]\n",
        "\n",
        "# Filter repositories for users who joined after 2020\n",
        "repos_after_2020 = repos_df[repos_df['login'].isin(users_after_2020['login'])]\n",
        "\n",
        "# Remove missing language values\n",
        "filtered_repos = repos_after_2020[repos_after_2020['language'].notna()]\n",
        "\n",
        "# Count occurrences of each language\n",
        "language_counts = filtered_repos['language'].value_counts()\n",
        "\n",
        "# Check if there are at least two languages to avoid an IndexError\n",
        "if len(language_counts) >= 2:\n",
        "    second_most_common_language = language_counts.index[1]  # Second most popular language\n",
        "    print(\"Second most popular programming language for users who joined after 2020:\", second_most_common_language)\n",
        "else:\n",
        "    print(\"Not enough language data available for users who joined after 2020 to determine the second most popular language.\")\n"
      ],
      "metadata": {
        "colab": {
          "base_uri": "https://localhost:8080/"
        },
        "id": "zeAcuw3veXLK",
        "outputId": "3f5f4aa0-4e1f-4e3c-a3da-8bd66537b0ed"
      },
      "execution_count": 20,
      "outputs": [
        {
          "output_type": "stream",
          "name": "stdout",
          "text": [
            "Second most popular programming language for users who joined after 2020: JavaScript\n"
          ]
        }
      ]
    },
    {
      "cell_type": "code",
      "source": [
         "#Q7: Which language has the highest average number of stars per repository?\n",
        "\n",
        "import pandas as pd\n",
        "\n",
        "# Load the repositories.csv file\n",
        "repos_df = pd.read_csv(\"repositories.csv\")\n",
        "\n",
        "# Remove rows where 'language' or 'stargazers_count' is missing\n",
        "filtered_repos = repos_df.dropna(subset=['language', 'stargazers_count'])\n",
        "\n",
        "# Group by 'language' and calculate the average 'stargazers_count'\n",
        "average_stars = filtered_repos.groupby('language')['stargazers_count'].mean()\n",
        "\n",
        "# Identify the language with the highest average number of stars\n",
        "top_language = average_stars.idxmax()\n",
        "top_average_stars = average_stars.max()\n",
        "\n",
        "print(f\"Language with the highest average number of stars per repository: {top_language} ({top_average_stars:.2f} stars)\")\n"
      ],
      "metadata": {
        "colab": {
          "base_uri": "https://localhost:8080/"
        },
        "id": "yqI5bKVwemjZ",
        "outputId": "a7f2e25b-9572-4730-93f0-bb012a2fe601"
      },
      "execution_count": 21,
      "outputs": [
        {
          "output_type": "stream",
          "name": "stdout",
          "text": [
            "Language with the highest average number of stars per repository: D (2523.00 stars)\n"
          ]
        }
      ]
    },
    {
      "cell_type": "code",
      "source": [
        "#Q8 Let's define leader_strength as followers / (1 + following). Who are the top 5 in terms of leader_strength? List their login in order, comma-separated.\n",
        "\n",
        "import pandas as pd\n",
        "\n",
        "# Load the users.csv file\n",
        "users_df = pd.read_csv(\"users.csv\")\n",
        "\n",
        "# Calculate leader_strength as followers / (1 + following)\n",
        "users_df['leader_strength'] = users_df['followers'] / (1 + users_df['following'])\n",
        "\n",
        "# Sort by leader_strength in descending order and get the top 5\n",
        "top_leaders = users_df.sort_values(by='leader_strength', ascending=False).head(5)\n",
        "\n",
        "# Extract the 'login' of the top 5 users and join them as a comma-separated string\n",
        "top_leaders_logins = \", \".join(top_leaders['login'].tolist())\n",
        "\n",
        "print(\"Top 5 users by leader_strength:\", top_leaders_logins)\n"
      ],
      "metadata": {
        "colab": {
          "base_uri": "https://localhost:8080/"
        },
        "id": "FelfPqapfEnl",
        "outputId": "660bc5a8-4675-4c2b-9f63-98478d09cad2"
      },
      "execution_count": 22,
      "outputs": [
        {
          "output_type": "stream",
          "name": "stdout",
          "text": [
            "Top 5 users by leader_strength: mosh-hamedani, binarythistle, TheCherno, TuPayChain, rogerclarkmelbourne\n"
          ]
        }
      ]
    },
    {
      "cell_type": "code",
      "source": [
        "#Q9 What is the correlation between the number of followers and the number of public repositories among users in Melbourne?\n",
        "\n",
        "import pandas as pd\n",
        "\n",
        "# Load the users.csv file\n",
        "users_df = pd.read_csv(\"users.csv\")\n",
        "\n",
        "# Calculate the correlation between 'followers' and 'public_repos'\n",
        "correlation = users_df['followers'].corr(users_df['public_repos'])\n",
        "\n",
        "# Print the correlation rounded to 3 decimal places\n",
        "print(f\"Correlation between followers and public repositories: {correlation:.3f}\")\n"
      ],
      "metadata": {
        "colab": {
          "base_uri": "https://localhost:8080/"
        },
        "id": "rQHGVBcdfTJf",
        "outputId": "7f8b9163-c418-4fb0-d1c7-2ad9a60e474b"
      },
      "execution_count": 24,
      "outputs": [
        {
          "output_type": "stream",
          "name": "stdout",
          "text": [
            "Correlation between followers and public repositories: 0.188\n"
          ]
        }
      ]
    },
    {
      "cell_type": "code",
      "source": [
        "#Q10 Does creating more repos help users get more followers? Using regression, estimate how many additional followers a user gets per additional public repository.\n",
        "\n",
        "import pandas as pd\n",
        "from scipy.stats import linregress\n",
        "\n",
        "# Load the users.csv file\n",
        "users_df = pd.read_csv(\"users.csv\")\n",
        "\n",
        "# Perform linear regression with 'public_repos' as the predictor and 'followers' as the response variable\n",
        "slope, intercept, r_value, p_value, std_err = linregress(users_df['public_repos'], users_df['followers'])\n",
        "\n",
        "# Print the slope, which represents the estimated increase in followers per additional repository\n",
        "print(f\"Regression slope of followers on repos: {slope:.3f}\")\n"
      ],
      "metadata": {
        "colab": {
          "base_uri": "https://localhost:8080/"
        },
        "id": "jzpAeJMhfU2b",
        "outputId": "5506e1ef-0d52-4619-f442-ce3002f3d949"
      },
      "execution_count": 25,
      "outputs": [
        {
          "output_type": "stream",
          "name": "stdout",
          "text": [
            "Regression slope of followers on repos: 2.242\n"
          ]
        }
      ]
    },
    {
      "cell_type": "code",
      "source": [
        "#Q11 Do people typically enable projects and wikis together? What is the correlation between a repo having projects enabled and having wiki enabled?\n",
        "import pandas as pd\n",
        "\n",
        "# Load the data\n",
        "repositories_df = pd.read_csv('repositories.csv')\n",
        "\n",
        "\n",
        "# Calculate the correlation directly\n",
        "correlation = repositories_df['has_projects'].astype(int).corr(repositories_df['has_wiki'].astype(int))\n",
        "\n",
        "print(f\"The correlation between having projects enabled and having a wiki enabled is: {correlation:.3f}\")"
      ],
      "metadata": {
        "colab": {
          "base_uri": "https://localhost:8080/"
        },
        "id": "WojGqeTWfjqq",
        "outputId": "2d533c0f-0139-4e65-b06d-43965a0c5bd7"
      },
      "execution_count": 43,
      "outputs": [
        {
          "output_type": "stream",
          "name": "stdout",
          "text": [
            "The correlation between having projects enabled and having a wiki enabled is: 0.380\n"
          ]
        }
      ]
    },
    {
      "cell_type": "code",
      "source": [
        "#Q12 Do hireable users follow more people than those who are not hireable?\n",
        "import pandas as pd\n",
        "\n",
        "# Load the users data from the CSV file\n",
        "users_df = pd.read_csv('users.csv')\n",
        "\n",
        "# Filter hireable and non-hireable users\n",
        "hireable_users = users_df[users_df['hireable'] == True]\n",
        "non_hireable_users = users_df[users_df['hireable'].isna() | (users_df['hireable'] == False)]\n",
        "\n",
        "# Calculate average following for both groups\n",
        "average_hireable_following = hireable_users['following'].mean()\n",
        "average_non_hireable_following = non_hireable_users['following'].mean()\n",
        "\n",
        "# Calculate the difference\n",
        "difference = average_hireable_following - average_non_hireable_following\n",
        "\n",
        "# Print the result rounded to three decimal places\n",
        "print(f'Difference in average following (hireable - non-hireable): {difference:.3f}')"
      ],
      "metadata": {
        "colab": {
          "base_uri": "https://localhost:8080/"
        },
        "id": "7_xrKEiSf22J",
        "outputId": "c92a6be2-3b2d-4a24-b07f-977164459b62"
      },
      "execution_count": 44,
      "outputs": [
        {
          "output_type": "stream",
          "name": "stdout",
          "text": [
            "Difference in average following (hireable - non-hireable): -45.901\n"
          ]
        }
      ]
    },
    {
      "cell_type": "code",
      "source": [
        "#Q13 Some developers write long bios. Does that help them get more followers? What's the impact of the length of their bio (in Unicode words, split by whitespace) with followers? (Ignore people without bios)\n",
        "\n",
        "import pandas as pd\n",
        "from scipy.stats import linregress\n",
        "\n",
        "# Load the users.csv file\n",
        "users_df = pd.read_csv(\"users.csv\")\n",
        "\n",
        "# Filter out users without bios\n",
        "users_with_bio = users_df[users_df['bio'].notna()]\n",
        "\n",
        "# Calculate the bio word count by splitting on whitespace and counting words\n",
        "users_with_bio['bio_word_count'] = users_with_bio['bio'].apply(lambda x: len(x.split()))\n",
        "\n",
        "# Perform linear regression with 'bio_word_count' as the predictor and 'followers' as the response variable\n",
        "slope, intercept, r_value, p_value, std_err = linregress(users_with_bio['bio_word_count'], users_with_bio['followers'])\n",
        "\n",
        "# Print the slope, which represents the impact of bio length on followers\n",
        "print(f\"Regression slope of followers on bio word count: {slope:.3f}\")\n"
      ],
      "metadata": {
        "colab": {
          "base_uri": "https://localhost:8080/"
        },
        "id": "a_mFIhrcf-qe",
        "outputId": "d88ad957-9005-4de0-ded5-e1ba6442aa4d"
      },
      "execution_count": 31,
      "outputs": [
        {
          "output_type": "stream",
          "name": "stdout",
          "text": [
            "Regression slope of followers on bio word count: 7.351\n"
          ]
        },
        {
          "output_type": "stream",
          "name": "stderr",
          "text": [
            "<ipython-input-31-626237cfc766>:13: SettingWithCopyWarning: \n",
            "A value is trying to be set on a copy of a slice from a DataFrame.\n",
            "Try using .loc[row_indexer,col_indexer] = value instead\n",
            "\n",
            "See the caveats in the documentation: https://pandas.pydata.org/pandas-docs/stable/user_guide/indexing.html#returning-a-view-versus-a-copy\n",
            "  users_with_bio['bio_word_count'] = users_with_bio['bio'].apply(lambda x: len(x.split()))\n"
          ]
        }
      ]
    },
    {
      "cell_type": "code",
      "source": [
        "#Q14 Who created the most repositories on weekends (UTC)? List the top 5 users' login in order, comma-separated\n",
        "\n",
        "import pandas as pd\n",
        "\n",
        "# Load the repositories.csv file\n",
        "repos_df = pd.read_csv(\"repositories.csv\")\n",
        "\n",
        "# Convert 'created_at' to datetime format\n",
        "repos_df['created_at'] = pd.to_datetime(repos_df['created_at'], utc=True)\n",
        "\n",
        "# Extract the day of the week (0=Monday, 6=Sunday)\n",
        "repos_df['day_of_week'] = repos_df['created_at'].dt.dayofweek\n",
        "\n",
        "# Filter for weekends (5=Saturday, 6=Sunday)\n",
        "weekend_repos = repos_df[repos_df['day_of_week'].isin([5, 6])]\n",
        "\n",
        "# Count the number of weekend-created repositories per user\n",
        "weekend_repo_counts = weekend_repos['login'].value_counts()\n",
        "\n",
        "# Get the top 5 users\n",
        "top_5_users = weekend_repo_counts.head(5)\n",
        "\n",
        "# Print the top 5 users' logins, comma-separated\n",
        "print(','.join(top_5_users.index))\n"
      ],
      "metadata": {
        "colab": {
          "base_uri": "https://localhost:8080/"
        },
        "id": "ga-RXrf2gfY_",
        "outputId": "c0542310-96bb-40ba-cb4b-33d761a269ce"
      },
      "execution_count": 32,
      "outputs": [
        {
          "output_type": "stream",
          "name": "stdout",
          "text": [
            "wolfeidau,karkranikhil,roachhd,plutext,rstacruz\n"
          ]
        }
      ]
    },
    {
      "cell_type": "code",
      "source": [
        "#Q15 Do people who are hireable share their email addresses more often?\n",
        "import pandas as pd\n",
        "\n",
        "# Load the users data from the CSV file\n",
        "users_df = pd.read_csv('users.csv')\n",
        "\n",
        "# Total number of users\n",
        "total_users = len(users_df)\n",
        "\n",
        "# Filter hireable and non-hireable users\n",
        "hireable_users = users_df[users_df['hireable'] == True]\n",
        "non_hireable_users = users_df[users_df['hireable'].isna() | (users_df['hireable'] == False)]\n",
        "\n",
        "# Calculate the fraction of users with email in both groups\n",
        "fraction_hireable_with_email = hireable_users['email'].notna().mean()\n",
        "fraction_non_hireable_with_email = non_hireable_users['email'].notna().mean()\n",
        "\n",
        "# Calculate the difference\n",
        "difference = fraction_hireable_with_email - fraction_non_hireable_with_email\n",
        "\n",
        "# Print the result rounded to three decimal places\n",
        "print(f'Difference in fraction of users with email: {difference:.3f}')\n"
      ],
      "metadata": {
        "colab": {
          "base_uri": "https://localhost:8080/"
        },
        "id": "R_YNhjIlgsnC",
        "outputId": "963f822b-67a1-4096-ab28-2f4ba52761a4"
      },
      "execution_count": 45,
      "outputs": [
        {
          "output_type": "stream",
          "name": "stdout",
          "text": [
            "Difference in fraction of users with email: 0.048\n"
          ]
        }
      ]
    },
    {
      "cell_type": "code",
      "source": [
        "#Q16 Let's assume that the last word in a user's name is their surname (ignore missing names, trim and split by whitespace.) What's the most common surname? (If there's a tie, list them all, comma-separated, alphabetically)\n",
        "\n",
        "import csv\n",
        "from collections import Counter\n",
        "\n",
        "# Initialize a Counter to store surname frequencies\n",
        "surname_counts = Counter()\n",
        "\n",
        "# Open and read the users.csv file\n",
        "with open('users.csv', 'r', encoding='utf-8') as csvfile:\n",
        "    reader = csv.DictReader(csvfile)\n",
        "    for row in reader:\n",
        "        # Get the 'name' field and trim whitespace\n",
        "        name = row.get('name', '').strip()\n",
        "        if name:\n",
        "            # Split the name by whitespace\n",
        "            name_parts = name.split()\n",
        "            if name_parts:\n",
        "                # Assume the last word is the surname\n",
        "                surname = name_parts[-1]\n",
        "                # Update the surname count\n",
        "                surname_counts[surname] += 1\n",
        "\n",
        "# Find the maximum frequency\n",
        "if surname_counts:\n",
        "    max_frequency = max(surname_counts.values())\n",
        "    # Find all surnames with the maximum frequency\n",
        "    most_common_surnames = [surname for surname, count in surname_counts.items() if count == max_frequency]\n",
        "    # Sort surnames alphabetically\n",
        "    most_common_surnames.sort()\n",
        "    # Join surnames with commas\n",
        "    result = ', '.join(most_common_surnames)\n",
        "    print(f\"Most common surname(s): {result}\")\n",
        "else:\n",
        "    print(\"No surnames found in the data.\")\n"
      ],
      "metadata": {
        "colab": {
          "base_uri": "https://localhost:8080/"
        },
        "id": "MZbDXePLhCNV",
        "outputId": "fbfd2940-15e3-4cf0-cd0c-7fb99006b299"
      },
      "execution_count": 40,
      "outputs": [
        {
          "output_type": "stream",
          "name": "stdout",
          "text": [
            "Most common surname(s): Jackson, Wang\n"
          ]
        }
      ]
    }
  ]
}
